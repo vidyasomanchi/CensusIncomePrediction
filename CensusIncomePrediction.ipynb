{
 "cells": [
  {
   "cell_type": "code",
   "execution_count": 1,
   "id": "db55cbba",
   "metadata": {},
   "outputs": [],
   "source": [
    "import pandas as pd\n",
    "import numpy as np"
   ]
  },
  {
   "cell_type": "markdown",
   "id": "c4bec810",
   "metadata": {},
   "source": [
    "# Defining the Trainset and Test"
   ]
  },
  {
   "cell_type": "code",
   "execution_count": 2,
   "id": "fa3ba056",
   "metadata": {},
   "outputs": [],
   "source": [
    "colnames = [\"Age\",\"Workclass\",\"Fnlwgt\",\"Education\",\"Education_num\",\"Marital_status\",\"Occupation\",\"Relationship\",\"Race\",\"Sex\",\"Capital_gain\",\"Capital_loss\",\"Hours_per_week\",\"Native_country\",\"Income\"]\n",
    "train = pd.read_csv(\"adult.csv\",names=colnames,header=None)\n",
    "test = pd.read_csv(\"adult_test.csv\",names=colnames,header=None)"
   ]
  },
  {
   "cell_type": "markdown",
   "id": "2a7bd8a5",
   "metadata": {},
   "source": [
    "# Information of the data in the dataframe for both trainset and testset"
   ]
  },
  {
   "cell_type": "code",
   "execution_count": 3,
   "id": "15da920f",
   "metadata": {},
   "outputs": [
    {
     "name": "stdout",
     "output_type": "stream",
     "text": [
      "                Age        Fnlwgt  Education_num  Capital_gain  Capital_loss  \\\n",
      "count  32561.000000  3.256100e+04   32561.000000  32561.000000  32561.000000   \n",
      "mean      38.581647  1.897784e+05      10.080679   1077.648844     87.303830   \n",
      "std       13.640433  1.055500e+05       2.572720   7385.292085    402.960219   \n",
      "min       17.000000  1.228500e+04       1.000000      0.000000      0.000000   \n",
      "25%       28.000000  1.178270e+05       9.000000      0.000000      0.000000   \n",
      "50%       37.000000  1.783560e+05      10.000000      0.000000      0.000000   \n",
      "75%       48.000000  2.370510e+05      12.000000      0.000000      0.000000   \n",
      "max       90.000000  1.484705e+06      16.000000  99999.000000   4356.000000   \n",
      "\n",
      "       Hours_per_week  \n",
      "count    32561.000000  \n",
      "mean        40.437456  \n",
      "std         12.347429  \n",
      "min          1.000000  \n",
      "25%         40.000000  \n",
      "50%         40.000000  \n",
      "75%         45.000000  \n",
      "max         99.000000  \n",
      "                Age        Fnlwgt  Education_num  Capital_gain  Capital_loss  \\\n",
      "count  16281.000000  1.628100e+04   16281.000000  16281.000000  16281.000000   \n",
      "mean      38.767459  1.894357e+05      10.072907   1081.905104     87.899269   \n",
      "std       13.849187  1.057149e+05       2.567545   7583.935968    403.105286   \n",
      "min       17.000000  1.349200e+04       1.000000      0.000000      0.000000   \n",
      "25%       28.000000  1.167360e+05       9.000000      0.000000      0.000000   \n",
      "50%       37.000000  1.778310e+05      10.000000      0.000000      0.000000   \n",
      "75%       48.000000  2.383840e+05      12.000000      0.000000      0.000000   \n",
      "max       90.000000  1.490400e+06      16.000000  99999.000000   3770.000000   \n",
      "\n",
      "       Hours_per_week  \n",
      "count    16281.000000  \n",
      "mean        40.392236  \n",
      "std         12.479332  \n",
      "min          1.000000  \n",
      "25%         40.000000  \n",
      "50%         40.000000  \n",
      "75%         45.000000  \n",
      "max         99.000000  \n"
     ]
    }
   ],
   "source": [
    "print(train.describe())\n",
    "print(test.describe())"
   ]
  },
  {
   "cell_type": "markdown",
   "id": "793f48a6",
   "metadata": {},
   "source": [
    "# Replacing all the \"?\" values in the data with np.nan so as to perform imputation on them later"
   ]
  },
  {
   "cell_type": "code",
   "execution_count": 4,
   "id": "5d13092d",
   "metadata": {},
   "outputs": [],
   "source": [
    "train = train.replace(\" ?\",np.nan)\n",
    "test = test.replace(\" ?\",np.nan)"
   ]
  },
  {
   "cell_type": "markdown",
   "id": "c647e880",
   "metadata": {},
   "source": [
    "# Spliting the Trainset and Testset to it's respective x_train, y_train, x_test & y_test"
   ]
  },
  {
   "cell_type": "code",
   "execution_count": 5,
   "id": "124b2aa3",
   "metadata": {},
   "outputs": [],
   "source": [
    "'''\n",
    "split_x_y function has been defined to split the train and test data sets into separate x_train,y_train,x_test and y_test\n",
    "to pass them into the ML algorithms later\n",
    "data: Dataframe where last column is the label\n",
    "'''\n",
    "def split_x_y(data):\n",
    "    x = data.iloc[:,:-1].values\n",
    "    y = data.iloc[:,-1].values    \n",
    "    return x,y"
   ]
  },
  {
   "cell_type": "code",
   "execution_count": 6,
   "id": "dac90823",
   "metadata": {},
   "outputs": [],
   "source": [
    "x_train, y_train = split_x_y(train)\n",
    "x_test, y_test = split_x_y(test)"
   ]
  },
  {
   "cell_type": "markdown",
   "id": "92d6d848",
   "metadata": {},
   "source": [
    "# Using the sklearn SimpleImputer function to fill in the missing values, another such imputer function is Datawig"
   ]
  },
  {
   "cell_type": "code",
   "execution_count": 7,
   "id": "c4d21556",
   "metadata": {},
   "outputs": [],
   "source": [
    "from sklearn.impute import SimpleImputer"
   ]
  },
  {
   "cell_type": "code",
   "execution_count": 8,
   "id": "94afbc00",
   "metadata": {},
   "outputs": [],
   "source": [
    "imputer = SimpleImputer(missing_values=np.nan,strategy=\"most_frequent\")\n",
    "'''\n",
    "imput_missing_values function is defined to fill the missing values in both, the train set and test set provided\n",
    "x: parameter which take a dataframe with only indepented varialble and not the label\n",
    "'''\n",
    "def imput_missing_values(x):\n",
    "    imputer.fit(x[:,1:])\n",
    "    x[:,1:] = imputer.transform(x[:,1:])\n",
    "    return x"
   ]
  },
  {
   "cell_type": "code",
   "execution_count": 9,
   "id": "b6e21096",
   "metadata": {},
   "outputs": [],
   "source": [
    "x_train = imput_missing_values(x_train)\n",
    "x_test = imput_missing_values(x_test)"
   ]
  },
  {
   "cell_type": "markdown",
   "id": "d07c4399",
   "metadata": {},
   "source": [
    "# Need to perform label encoder in order to convert the string values into numerical representation for the ML algorithm to understand"
   ]
  },
  {
   "cell_type": "code",
   "execution_count": 10,
   "id": "2230cf75",
   "metadata": {},
   "outputs": [],
   "source": [
    "from sklearn.preprocessing import LabelEncoder"
   ]
  },
  {
   "cell_type": "code",
   "execution_count": 11,
   "id": "b4317e68",
   "metadata": {},
   "outputs": [],
   "source": [
    "col1 = LabelEncoder()\n",
    "col2 = LabelEncoder()\n",
    "col3 = LabelEncoder()\n",
    "col4 = LabelEncoder()\n",
    "col5 = LabelEncoder()\n",
    "col6 = LabelEncoder()\n",
    "col7 = LabelEncoder()\n",
    "col8 = LabelEncoder()\n",
    "output = LabelEncoder()\n",
    "\n",
    "'''\n",
    "label_encoding function has been defined to perform encoding on both the train and test sets\n",
    "'''\n",
    "def label_encoding(x,y):\n",
    "    x[:,1] = col1.fit_transform(x[:,1])\n",
    "    x[:,3] = col1.fit_transform(x[:,3])\n",
    "    x[:,5] = col1.fit_transform(x[:,5])\n",
    "    x[:,6] = col1.fit_transform(x[:,6])\n",
    "    x[:,7] = col1.fit_transform(x[:,7])\n",
    "    x[:,8] = col1.fit_transform(x[:,8])\n",
    "    x[:,9] = col1.fit_transform(x[:,9])\n",
    "    x[:,13] = col1.fit_transform(x[:,13])\n",
    "    y = output.fit_transform(y)\n",
    "    \n",
    "    return x,y"
   ]
  },
  {
   "cell_type": "code",
   "execution_count": 12,
   "id": "273b4359",
   "metadata": {},
   "outputs": [],
   "source": [
    "x_train, y_train = label_encoding(x_train,y_train)\n",
    "x_test, y_test = label_encoding(x_test,y_test)"
   ]
  },
  {
   "cell_type": "markdown",
   "id": "ffccba4c",
   "metadata": {},
   "source": [
    "# Normalize data before sending it to ml models"
   ]
  },
  {
   "cell_type": "code",
   "execution_count": 13,
   "id": "30a9199a",
   "metadata": {},
   "outputs": [],
   "source": [
    "from sklearn.preprocessing import StandardScaler\n",
    "scaler = StandardScaler()\n",
    "x_train = scaler.fit_transform(x_train)\n",
    "x_test = scaler.fit_transform(x_test)"
   ]
  },
  {
   "cell_type": "markdown",
   "id": "8d623f1d",
   "metadata": {},
   "source": [
    "# Executing XGBoost and Logistic Regression models to see the performance"
   ]
  },
  {
   "cell_type": "code",
   "execution_count": 14,
   "id": "ac1403f2",
   "metadata": {},
   "outputs": [],
   "source": [
    "from xgboost import XGBClassifier\n",
    "from sklearn.linear_model import LogisticRegression"
   ]
  },
  {
   "cell_type": "code",
   "execution_count": 15,
   "id": "91878176",
   "metadata": {},
   "outputs": [
    {
     "name": "stderr",
     "output_type": "stream",
     "text": [
      "C:\\Users\\ey383aw\\Anaconda3\\lib\\site-packages\\xgboost\\sklearn.py:1224: UserWarning: The use of label encoder in XGBClassifier is deprecated and will be removed in a future release. To remove this warning, do the following: 1) Pass option use_label_encoder=False when constructing XGBClassifier object; and 2) Encode your labels (y) as integers starting with 0, i.e. 0, 1, 2, ..., [num_class - 1].\n",
      "  warnings.warn(label_encoder_deprecation_msg, UserWarning)\n"
     ]
    },
    {
     "name": "stdout",
     "output_type": "stream",
     "text": [
      "[18:20:08] WARNING: C:/Users/Administrator/workspace/xgboost-win64_release_1.5.1/src/learner.cc:1115: Starting in XGBoost 1.3.0, the default evaluation metric used with the objective 'binary:logistic' was changed from 'error' to 'logloss'. Explicitly set eval_metric if you'd like to restore the old behavior.\n",
      "xgboost classification score 0.9045483861060778\n"
     ]
    }
   ],
   "source": [
    "xgboost=XGBClassifier()\n",
    "xgboost.fit(x_train,y_train)\n",
    "print(\"xgboost classification score\",xgboost.score(x_train,y_train))"
   ]
  },
  {
   "cell_type": "code",
   "execution_count": 16,
   "id": "e0e416f1",
   "metadata": {},
   "outputs": [
    {
     "name": "stdout",
     "output_type": "stream",
     "text": [
      "Lr classification score 0.824513989128098\n"
     ]
    }
   ],
   "source": [
    "lr=LogisticRegression()\n",
    "lr.fit(x_train, y_train)\n",
    "print(\"Lr classification score\",lr.score(x_train,y_train))"
   ]
  },
  {
   "cell_type": "code",
   "execution_count": 17,
   "id": "5aae097c",
   "metadata": {},
   "outputs": [],
   "source": [
    "xgboost_ypred = xgboost.predict(x_test)\n",
    "lr_ypred = lr.predict(x_test)"
   ]
  },
  {
   "cell_type": "markdown",
   "id": "50084bbc",
   "metadata": {},
   "source": [
    "# Assessing the model predictions with the truth values"
   ]
  },
  {
   "cell_type": "code",
   "execution_count": 18,
   "id": "e0e89550",
   "metadata": {},
   "outputs": [],
   "source": [
    "from sklearn.metrics import accuracy_score,confusion_matrix,classification_report"
   ]
  },
  {
   "cell_type": "code",
   "execution_count": 19,
   "id": "2d06595b",
   "metadata": {},
   "outputs": [
    {
     "name": "stdout",
     "output_type": "stream",
     "text": [
      "confusion matrix for xgboost_model \n",
      " [[11631   804]\n",
      " [ 1443  2403]]\n",
      "confusion matrix for liner regression model \n",
      " [[11709   726]\n",
      " [ 2115  1731]]\n"
     ]
    }
   ],
   "source": [
    "conf_matrix = confusion_matrix(y_test,xgboost_ypred)\n",
    "print(\"confusion matrix for xgboost_model\",'\\n',conf_matrix)\n",
    "\n",
    "conf_matrix = confusion_matrix(y_test,lr_ypred)\n",
    "print(\"confusion matrix for liner regression model\",'\\n',conf_matrix)"
   ]
  },
  {
   "cell_type": "code",
   "execution_count": 20,
   "id": "12ac02be",
   "metadata": {},
   "outputs": [
    {
     "name": "stdout",
     "output_type": "stream",
     "text": [
      " xgboost classification_report \n",
      "               precision    recall  f1-score   support\n",
      "\n",
      "           0       0.89      0.94      0.91     12435\n",
      "           1       0.75      0.62      0.68      3846\n",
      "\n",
      "    accuracy                           0.86     16281\n",
      "   macro avg       0.82      0.78      0.80     16281\n",
      "weighted avg       0.86      0.86      0.86     16281\n",
      "\n",
      " lr classification_report \n",
      "               precision    recall  f1-score   support\n",
      "\n",
      "           0       0.85      0.94      0.89     12435\n",
      "           1       0.70      0.45      0.55      3846\n",
      "\n",
      "    accuracy                           0.83     16281\n",
      "   macro avg       0.78      0.70      0.72     16281\n",
      "weighted avg       0.81      0.83      0.81     16281\n",
      "\n"
     ]
    }
   ],
   "source": [
    "xgboost_report = classification_report(y_test,xgboost_ypred)\n",
    "print(\" xgboost classification_report\" ,'\\n',xgboost_report)\n",
    "\n",
    "lr_report = classification_report(y_test,lr_ypred)\n",
    "print(\" lr classification_report\" ,'\\n',lr_report)"
   ]
  },
  {
   "cell_type": "code",
   "execution_count": 21,
   "id": "7ab43c4f",
   "metadata": {},
   "outputs": [],
   "source": [
    "from sklearn.metrics import roc_curve, auc, roc_auc_score\n",
    "from sklearn.metrics import plot_roc_curve\n",
    "import matplotlib.pyplot as plt"
   ]
  },
  {
   "cell_type": "code",
   "execution_count": 22,
   "id": "e68d3cea",
   "metadata": {},
   "outputs": [
    {
     "name": "stdout",
     "output_type": "stream",
     "text": [
      "0.7800743899478536\n",
      "0.6958472042138621\n"
     ]
    }
   ],
   "source": [
    "print(roc_auc_score(y_test,xgboost_ypred))\n",
    "print(roc_auc_score(y_test,lr_ypred))"
   ]
  },
  {
   "cell_type": "code",
   "execution_count": 23,
   "id": "076470c5",
   "metadata": {},
   "outputs": [
    {
     "data": {
      "text/plain": [
       "<matplotlib.legend.Legend at 0x18a4d3e8c40>"
      ]
     },
     "execution_count": 23,
     "metadata": {},
     "output_type": "execute_result"
    },
    {
     "data": {
      "image/png": "[encoded data removed]",
      "text/plain": [
       "<Figure size 432x288 with 1 Axes>"
      ]
     },
     "metadata": {
      "needs_background": "light"
     },
     "output_type": "display_data"
    }
   ],
   "source": [
    "disp = plot_roc_curve(lr,x_test,y_test)\n",
    "plot_roc_curve(xgboost,x_test,y_test,ax=disp.ax_)\n",
    "plt.legend(prop = {'size':11}, loc ='lower right')"
   ]
  },
  {
   "cell_type": "code",
   "execution_count": null,
   "id": "fa0b927e",
   "metadata": {},
   "outputs": [],
   "source": []
  }
 ],
 "metadata": {
  "kernelspec": {
   "display_name": "Python 3 (ipykernel)",
   "language": "python",
   "name": "python3"
  },
  "language_info": {
   "codemirror_mode": {
    "name": "ipython",
    "version": 3
   },
   "file_extension": ".py",
   "mimetype": "text/x-python",
   "name": "python",
   "nbconvert_exporter": "python",
   "pygments_lexer": "ipython3",
   "version": "3.9.7"
  }
 },
 "nbformat": 4,
 "nbformat_minor": 5
}
